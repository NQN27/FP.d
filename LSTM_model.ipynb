{
 "cells": [
  {
   "cell_type": "code",
   "execution_count": 2,
   "metadata": {},
   "outputs": [],
   "source": [
    "import os\n",
    "import numpy as np\n",
    "import pandas as pd\n",
    "import matplotlib.pyplot as plt\n",
    "from sklearn.preprocessing import MinMaxScaler\n"
   ]
  },
  {
   "cell_type": "code",
   "execution_count": 3,
   "metadata": {},
   "outputs": [
    {
     "name": "stdout",
     "output_type": "stream",
     "text": [
      "[[ 943.3]\n",
      " [ 943.1]\n",
      " [ 942.6]\n",
      " ...\n",
      " [1527.2]\n",
      " [1527.1]\n",
      " [1525.5]]\n",
      "(43083, 1)\n"
     ]
    }
   ],
   "source": [
    "# Load the traning data set\n",
    "# Volume show any correlation between other features less than other data, so it will be ignored with Open interest\n",
    "\n",
    "data_set_train = pd.read_csv(\"Train_data.csv\")\n",
    "data_set_train.head()\n",
    "\n",
    "training_set = data_set_train.iloc[1:,4:5 ].values\n",
    "print(training_set)\n",
    "print(training_set.shape)\n"
   ]
  },
  {
   "cell_type": "code",
   "execution_count": 4,
   "metadata": {},
   "outputs": [
    {
     "data": {
      "text/plain": [
       "array([[0.37433208],\n",
       "       [0.37413418],\n",
       "       [0.37363942],\n",
       "       ...,\n",
       "       [0.95210766],\n",
       "       [0.95200871],\n",
       "       [0.95042549]])"
      ]
     },
     "execution_count": 4,
     "metadata": {},
     "output_type": "execute_result"
    }
   ],
   "source": [
    "#start training\n",
    "scaler= MinMaxScaler(feature_range= (0,1))\n",
    "scaler_training_set = scaler.fit_transform(training_set)\n",
    "\n",
    "scaler_training_set"
   ]
  },
  {
   "cell_type": "code",
   "execution_count": 5,
   "metadata": {},
   "outputs": [
    {
     "name": "stdout",
     "output_type": "stream",
     "text": [
      "(43023, 60) (43023,)\n"
     ]
    }
   ],
   "source": [
    "# create x_train and y_train data structures\n",
    "X_train =[]\n",
    "Y_train =[]\n",
    "for i in range(60,len(training_set)):\n",
    "    X_train.append(scaler_training_set[i-60:i,0])\n",
    "    Y_train.append(scaler_training_set[i,0])\n",
    "X_train = np.array(X_train)\n",
    "Y_train = np.array(Y_train)\n",
    "print(X_train.shape,Y_train.shape)\n"
   ]
  },
  {
   "cell_type": "code",
   "execution_count": 10,
   "metadata": {},
   "outputs": [
    {
     "data": {
      "text/plain": [
       "array([[[0.37433208],\n",
       "        [0.37413418],\n",
       "        [0.37363942],\n",
       "        [0.37472788],\n",
       "        [0.3763111 ],\n",
       "        [0.37502474],\n",
       "        [0.37472788],\n",
       "        [0.37551949],\n",
       "        [0.37601425],\n",
       "        [0.37700376],\n",
       "        [0.37700376],\n",
       "        [0.376509  ],\n",
       "        [0.37601425],\n",
       "        [0.37621215],\n",
       "        [0.37621215],\n",
       "        [0.37502474],\n",
       "        [0.37492579],\n",
       "        [0.37482684],\n",
       "        [0.37581635],\n",
       "        [0.37472788],\n",
       "        [0.37452998],\n",
       "        [0.37423313],\n",
       "        [0.37472788],\n",
       "        [0.37522264],\n",
       "        [0.37601425],\n",
       "        [0.37710271],\n",
       "        [0.3761132 ],\n",
       "        [0.376509  ],\n",
       "        [0.37799327],\n",
       "        [0.37829012],\n",
       "        [0.37848803],\n",
       "        [0.37898278],\n",
       "        [0.37967544],\n",
       "        [0.37918068],\n",
       "        [0.37868593],\n",
       "        [0.37799327],\n",
       "        [0.37898278],\n",
       "        [0.37927964],\n",
       "        [0.37977439],\n",
       "        [0.37937859],\n",
       "        [0.37868593],\n",
       "        [0.38086285],\n",
       "        [0.38046705],\n",
       "        [0.38284188],\n",
       "        [0.38294083],\n",
       "        [0.38313873],\n",
       "        [0.38442509],\n",
       "        [0.3850188 ],\n",
       "        [0.38511775],\n",
       "        [0.38581041],\n",
       "        [0.38590936],\n",
       "        [0.38590936],\n",
       "        [0.38778943],\n",
       "        [0.38670097],\n",
       "        [0.38640412],\n",
       "        [0.38739363],\n",
       "        [0.38739363],\n",
       "        [0.38719573],\n",
       "        [0.38719573],\n",
       "        [0.38660202]],\n",
       "\n",
       "       [[0.37413418],\n",
       "        [0.37363942],\n",
       "        [0.37472788],\n",
       "        [0.3763111 ],\n",
       "        [0.37502474],\n",
       "        [0.37472788],\n",
       "        [0.37551949],\n",
       "        [0.37601425],\n",
       "        [0.37700376],\n",
       "        [0.37700376],\n",
       "        [0.376509  ],\n",
       "        [0.37601425],\n",
       "        [0.37621215],\n",
       "        [0.37621215],\n",
       "        [0.37502474],\n",
       "        [0.37492579],\n",
       "        [0.37482684],\n",
       "        [0.37581635],\n",
       "        [0.37472788],\n",
       "        [0.37452998],\n",
       "        [0.37423313],\n",
       "        [0.37472788],\n",
       "        [0.37522264],\n",
       "        [0.37601425],\n",
       "        [0.37710271],\n",
       "        [0.3761132 ],\n",
       "        [0.376509  ],\n",
       "        [0.37799327],\n",
       "        [0.37829012],\n",
       "        [0.37848803],\n",
       "        [0.37898278],\n",
       "        [0.37967544],\n",
       "        [0.37918068],\n",
       "        [0.37868593],\n",
       "        [0.37799327],\n",
       "        [0.37898278],\n",
       "        [0.37927964],\n",
       "        [0.37977439],\n",
       "        [0.37937859],\n",
       "        [0.37868593],\n",
       "        [0.38086285],\n",
       "        [0.38046705],\n",
       "        [0.38284188],\n",
       "        [0.38294083],\n",
       "        [0.38313873],\n",
       "        [0.38442509],\n",
       "        [0.3850188 ],\n",
       "        [0.38511775],\n",
       "        [0.38581041],\n",
       "        [0.38590936],\n",
       "        [0.38590936],\n",
       "        [0.38778943],\n",
       "        [0.38670097],\n",
       "        [0.38640412],\n",
       "        [0.38739363],\n",
       "        [0.38739363],\n",
       "        [0.38719573],\n",
       "        [0.38719573],\n",
       "        [0.38660202],\n",
       "        [0.38670097]],\n",
       "\n",
       "       [[0.37363942],\n",
       "        [0.37472788],\n",
       "        [0.3763111 ],\n",
       "        [0.37502474],\n",
       "        [0.37472788],\n",
       "        [0.37551949],\n",
       "        [0.37601425],\n",
       "        [0.37700376],\n",
       "        [0.37700376],\n",
       "        [0.376509  ],\n",
       "        [0.37601425],\n",
       "        [0.37621215],\n",
       "        [0.37621215],\n",
       "        [0.37502474],\n",
       "        [0.37492579],\n",
       "        [0.37482684],\n",
       "        [0.37581635],\n",
       "        [0.37472788],\n",
       "        [0.37452998],\n",
       "        [0.37423313],\n",
       "        [0.37472788],\n",
       "        [0.37522264],\n",
       "        [0.37601425],\n",
       "        [0.37710271],\n",
       "        [0.3761132 ],\n",
       "        [0.376509  ],\n",
       "        [0.37799327],\n",
       "        [0.37829012],\n",
       "        [0.37848803],\n",
       "        [0.37898278],\n",
       "        [0.37967544],\n",
       "        [0.37918068],\n",
       "        [0.37868593],\n",
       "        [0.37799327],\n",
       "        [0.37898278],\n",
       "        [0.37927964],\n",
       "        [0.37977439],\n",
       "        [0.37937859],\n",
       "        [0.37868593],\n",
       "        [0.38086285],\n",
       "        [0.38046705],\n",
       "        [0.38284188],\n",
       "        [0.38294083],\n",
       "        [0.38313873],\n",
       "        [0.38442509],\n",
       "        [0.3850188 ],\n",
       "        [0.38511775],\n",
       "        [0.38581041],\n",
       "        [0.38590936],\n",
       "        [0.38590936],\n",
       "        [0.38778943],\n",
       "        [0.38670097],\n",
       "        [0.38640412],\n",
       "        [0.38739363],\n",
       "        [0.38739363],\n",
       "        [0.38719573],\n",
       "        [0.38719573],\n",
       "        [0.38660202],\n",
       "        [0.38670097],\n",
       "        [0.38630517]],\n",
       "\n",
       "       [[0.37472788],\n",
       "        [0.3763111 ],\n",
       "        [0.37502474],\n",
       "        [0.37472788],\n",
       "        [0.37551949],\n",
       "        [0.37601425],\n",
       "        [0.37700376],\n",
       "        [0.37700376],\n",
       "        [0.376509  ],\n",
       "        [0.37601425],\n",
       "        [0.37621215],\n",
       "        [0.37621215],\n",
       "        [0.37502474],\n",
       "        [0.37492579],\n",
       "        [0.37482684],\n",
       "        [0.37581635],\n",
       "        [0.37472788],\n",
       "        [0.37452998],\n",
       "        [0.37423313],\n",
       "        [0.37472788],\n",
       "        [0.37522264],\n",
       "        [0.37601425],\n",
       "        [0.37710271],\n",
       "        [0.3761132 ],\n",
       "        [0.376509  ],\n",
       "        [0.37799327],\n",
       "        [0.37829012],\n",
       "        [0.37848803],\n",
       "        [0.37898278],\n",
       "        [0.37967544],\n",
       "        [0.37918068],\n",
       "        [0.37868593],\n",
       "        [0.37799327],\n",
       "        [0.37898278],\n",
       "        [0.37927964],\n",
       "        [0.37977439],\n",
       "        [0.37937859],\n",
       "        [0.37868593],\n",
       "        [0.38086285],\n",
       "        [0.38046705],\n",
       "        [0.38284188],\n",
       "        [0.38294083],\n",
       "        [0.38313873],\n",
       "        [0.38442509],\n",
       "        [0.3850188 ],\n",
       "        [0.38511775],\n",
       "        [0.38581041],\n",
       "        [0.38590936],\n",
       "        [0.38590936],\n",
       "        [0.38778943],\n",
       "        [0.38670097],\n",
       "        [0.38640412],\n",
       "        [0.38739363],\n",
       "        [0.38739363],\n",
       "        [0.38719573],\n",
       "        [0.38719573],\n",
       "        [0.38660202],\n",
       "        [0.38670097],\n",
       "        [0.38630517],\n",
       "        [0.38660202]],\n",
       "\n",
       "       [[0.3763111 ],\n",
       "        [0.37502474],\n",
       "        [0.37472788],\n",
       "        [0.37551949],\n",
       "        [0.37601425],\n",
       "        [0.37700376],\n",
       "        [0.37700376],\n",
       "        [0.376509  ],\n",
       "        [0.37601425],\n",
       "        [0.37621215],\n",
       "        [0.37621215],\n",
       "        [0.37502474],\n",
       "        [0.37492579],\n",
       "        [0.37482684],\n",
       "        [0.37581635],\n",
       "        [0.37472788],\n",
       "        [0.37452998],\n",
       "        [0.37423313],\n",
       "        [0.37472788],\n",
       "        [0.37522264],\n",
       "        [0.37601425],\n",
       "        [0.37710271],\n",
       "        [0.3761132 ],\n",
       "        [0.376509  ],\n",
       "        [0.37799327],\n",
       "        [0.37829012],\n",
       "        [0.37848803],\n",
       "        [0.37898278],\n",
       "        [0.37967544],\n",
       "        [0.37918068],\n",
       "        [0.37868593],\n",
       "        [0.37799327],\n",
       "        [0.37898278],\n",
       "        [0.37927964],\n",
       "        [0.37977439],\n",
       "        [0.37937859],\n",
       "        [0.37868593],\n",
       "        [0.38086285],\n",
       "        [0.38046705],\n",
       "        [0.38284188],\n",
       "        [0.38294083],\n",
       "        [0.38313873],\n",
       "        [0.38442509],\n",
       "        [0.3850188 ],\n",
       "        [0.38511775],\n",
       "        [0.38581041],\n",
       "        [0.38590936],\n",
       "        [0.38590936],\n",
       "        [0.38778943],\n",
       "        [0.38670097],\n",
       "        [0.38640412],\n",
       "        [0.38739363],\n",
       "        [0.38739363],\n",
       "        [0.38719573],\n",
       "        [0.38719573],\n",
       "        [0.38660202],\n",
       "        [0.38670097],\n",
       "        [0.38630517],\n",
       "        [0.38660202],\n",
       "        [0.38739363]]])"
      ]
     },
     "execution_count": 10,
     "metadata": {},
     "output_type": "execute_result"
    }
   ],
   "source": [
    "X_train = np.reshape(X_train,(X_train.shape[0],X_train.shape[1],1))\n",
    "X_train.shape\n",
    "X_train[0:5]"
   ]
  },
  {
   "cell_type": "code",
   "execution_count": 7,
   "metadata": {},
   "outputs": [],
   "source": [
    "from keras.models import Sequential\n",
    "from keras.layers import LSTM\n",
    "from keras.layers import Dense\n",
    "from keras.layers import Dropout"
   ]
  },
  {
   "cell_type": "code",
   "execution_count": 8,
   "metadata": {},
   "outputs": [],
   "source": [
    "regressor = Sequential()\n",
    "regressor.add(LSTM(units = 50,return_sequences = True, input_shape = (X_train.shape[1], 1)))\n",
    "regressor.add(Dropout(0.2))\n",
    "\n",
    "regressor.add(LSTM(units = 50,return_sequences = True))\n",
    "regressor.add(Dropout(0.2))\n",
    "\n",
    "regressor.add(LSTM(units = 50,return_sequences = True))\n",
    "regressor.add(Dropout(0.2))\n",
    "\n",
    "regressor.add(LSTM(units = 50))\n",
    "regressor.add(Dropout(0.2))\n",
    "\n",
    "regressor.add(Dense(units=1))"
   ]
  },
  {
   "cell_type": "code",
   "execution_count": 11,
   "metadata": {},
   "outputs": [
    {
     "name": "stdout",
     "output_type": "stream",
     "text": [
      "Epoch 1/100\n",
      "1345/1345 [==============================] - 113s 79ms/step - loss: 0.0025 - accuracy: 4.6487e-05\n",
      "Epoch 2/100\n",
      "1345/1345 [==============================] - 101s 75ms/step - loss: 0.0010 - accuracy: 4.6487e-05\n",
      "Epoch 3/100\n",
      "1345/1345 [==============================] - 96s 72ms/step - loss: 7.4929e-04 - accuracy: 4.6487e-05\n",
      "Epoch 4/100\n",
      "1345/1345 [==============================] - 156s 116ms/step - loss: 5.9972e-04 - accuracy: 4.6487e-05\n",
      "Epoch 5/100\n",
      "1345/1345 [==============================] - 246s 183ms/step - loss: 5.4651e-04 - accuracy: 4.6487e-05\n",
      "Epoch 6/100\n",
      "1345/1345 [==============================] - 214s 159ms/step - loss: 5.1988e-04 - accuracy: 4.6487e-05\n",
      "Epoch 7/100\n",
      "1345/1345 [==============================] - 255s 190ms/step - loss: 4.9413e-04 - accuracy: 4.6487e-05\n",
      "Epoch 8/100\n",
      " 256/1345 [====>.........................] - ETA: 1:35 - loss: 4.7939e-04 - accuracy: 0.0000e+00"
     ]
    }
   ],
   "source": [
    "regressor.compile(optimizer='adam', loss = 'mean_squared_error',metrics=['accuracy'])\n",
    "regressor.fit(X_train,Y_train, epochs=100,batch_size=32)"
   ]
  },
  {
   "cell_type": "code",
   "execution_count": 10,
   "metadata": {},
   "outputs": [
    {
     "name": "stdout",
     "output_type": "stream",
     "text": [
      "               Date/Time  Open  High   Low  Close  Volume  Target\n",
      "0    2020-09-21 13:30:00  51.6  51.6  51.3   51.3  142510     0.0\n",
      "1    2020-09-21 14:00:00  51.3  51.3  51.2   51.2  238740     0.0\n",
      "2    2020-09-21 14:30:00  51.2  51.2  51.2   51.2   91530     0.0\n",
      "3    2020-09-22 09:00:00  50.8  51.1  50.7   50.9  240240     0.0\n",
      "4    2020-09-22 09:30:00  51.0  51.2  50.9   50.9  172250     0.0\n",
      "..                   ...   ...   ...   ...    ...     ...     ...\n",
      "594  2020-12-22 11:00:00  57.5  57.8  57.3   57.4  359420     0.0\n",
      "595  2020-12-22 13:00:00  57.5  57.7  57.5   57.5  177010     1.0\n",
      "596  2020-12-22 13:30:00  57.5  58.0  57.5   58.0  713840     1.0\n",
      "597  2020-12-22 14:00:00  58.0  58.5  58.0   58.1  616700     1.0\n",
      "598  2020-12-22 14:30:00  58.1  58.1  58.1   58.1   11170     0.0\n",
      "\n",
      "[599 rows x 7 columns]\n",
      "(599, 60, 1)\n"
     ]
    }
   ],
   "source": [
    "data_test = pd.read_csv(\"Test_data.csv\")\n",
    "print(data_test)\n",
    "acture_stock_price = data_test.iloc[:,4:5].values\n",
    "Target = data_test[\"Target\"].values\n",
    "dataset_total = pd.concat((data_set_train['Close'], data_test['Close']),axis= 0)\n",
    "inputs = dataset_total[len(dataset_total)-len(data_test)-60:].values\n",
    "\n",
    "inputs = inputs.reshape(-1,1)\n",
    "inputs = scaler.transform(inputs)\n",
    "X_test = []\n",
    "for i in range(60,len(data_test)+60):\n",
    "    X_test.append(inputs[i-60:i,0])\n",
    "X_test = np.array(X_test)\n",
    "X_test = np.reshape(X_test,(X_test.shape[0], X_test.shape[1], 1))\n",
    "print(X_test.shape)"
   ]
  },
  {
   "cell_type": "code",
   "execution_count": 11,
   "metadata": {},
   "outputs": [
    {
     "name": "stdout",
     "output_type": "stream",
     "text": [
      "19/19 [==============================] - 1s 18ms/step\n",
      "[[46.512604]\n",
      " [49.176098]\n",
      " [50.627827]\n",
      " [50.96242 ]\n",
      " [50.756004]\n",
      " [50.559456]\n",
      " [50.48956 ]\n",
      " [50.498585]\n",
      " [50.438118]\n",
      " [50.356552]]\n"
     ]
    }
   ],
   "source": [
    "predicted_stock_price = regressor.predict(X_test)\n",
    "predicted_stock_price = scaler.inverse_transform(predicted_stock_price)\n",
    "Target_pred = [None]\n",
    "for i in range(1,len(predicted_stock_price)):\n",
    "    if predicted_stock_price[i-1]>=predicted_stock_price[i]:\n",
    "        Target_pred.append(0)\n",
    "    else:\n",
    "        Target_pred.append(1)\n",
    "print(predicted_stock_price[0:10])\n"
   ]
  },
  {
   "cell_type": "code",
   "execution_count": 12,
   "metadata": {},
   "outputs": [
    {
     "data": {
      "text/plain": [
       "<matplotlib.legend.Legend at 0x1d09ebfe1d0>"
      ]
     },
     "execution_count": 12,
     "metadata": {},
     "output_type": "execute_result"
    },
    {
     "data": {
      "image/png": "[encoded data removed]",
      "text/plain": [
       "<Figure size 640x480 with 1 Axes>"
      ]
     },
     "metadata": {},
     "output_type": "display_data"
    }
   ],
   "source": [
    "plt.plot(acture_stock_price, color='red', label = 'acture_stock_price')\n",
    "plt.plot(predicted_stock_price, color='green', label = 'predicted_stock')\n",
    "plt.title('Vn30fm')\n",
    "plt.xlabel('time')\n",
    "plt.ylabel('open stock price')\n",
    "plt.legend()"
   ]
  },
  {
   "cell_type": "code",
   "execution_count": 13,
   "metadata": {},
   "outputs": [
    {
     "name": "stdout",
     "output_type": "stream",
     "text": [
      "599 599\n",
      "Mean square error:  0.5618729096989966\n",
      "precision_score 0.3079470198675497\n"
     ]
    }
   ],
   "source": [
    "from sklearn.metrics import mean_squared_error,precision_score\n",
    "print(len(Target),len(Target_pred))\n",
    "print('Mean square error: ', mean_squared_error(Target[1:], Target_pred[1:]))\n",
    "print('precision_score',precision_score(Target[1:], Target_pred[1:]))\n"
   ]
  },
  {
   "cell_type": "code",
   "execution_count": 14,
   "metadata": {},
   "outputs": [
    {
     "name": "stdout",
     "output_type": "stream",
     "text": [
      "[0. 0. 0. 0. 1. 1. 0. 0. 0.]\n",
      "[1, 1, 1, 0, 0, 0, 1, 0, 0]\n"
     ]
    }
   ],
   "source": [
    "print(Target[1:10])\n",
    "print(Target_pred[1:10])"
   ]
  }
 ],
 "metadata": {
  "kernelspec": {
   "display_name": "Python 3",
   "language": "python",
   "name": "python3"
  },
  "language_info": {
   "codemirror_mode": {
    "name": "ipython",
    "version": 3
   },
   "file_extension": ".py",
   "mimetype": "text/x-python",
   "name": "python",
   "nbconvert_exporter": "python",
   "pygments_lexer": "ipython3",
   "version": "3.10.5"
  },
  "orig_nbformat": 4,
  "vscode": {
   "interpreter": {
    "hash": "26de051ba29f2982a8de78e945f0abaf191376122a1563185a90213a26c5da77"
   }
  }
 },
 "nbformat": 4,
 "nbformat_minor": 2
}
