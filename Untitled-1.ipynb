{
 "cells": [
  {
   "cell_type": "code",
   "execution_count": 1,
   "metadata": {},
   "outputs": [],
   "source": [
    "import pandas as pd\n",
    "import csv as csv"
   ]
  },
  {
   "cell_type": "code",
   "execution_count": 13,
   "metadata": {},
   "outputs": [
    {
     "data": {
      "text/plain": [
       "Rolling [window=3,center=True,axis=0,method=single]"
      ]
     },
     "execution_count": 13,
     "metadata": {},
     "output_type": "execute_result"
    }
   ],
   "source": [
    "# Load the data into a pandas DataFrame\n",
    "name = 'data'\n",
    "df = pd.read_csv(\"{}.csv\".format(name))\n",
    "# Convert the Date/Time column to a datetime type\n",
    "df['Date'] = pd.to_datetime(df['Date'])\n",
    "df.rolling(window=3,center=True,method='single')\n",
    "\n"
   ]
  },
  {
   "cell_type": "code",
   "execution_count": 14,
   "metadata": {},
   "outputs": [
    {
     "data": {
      "text/html": [
       "<div>\n",
       "<style scoped>\n",
       "    .dataframe tbody tr th:only-of-type {\n",
       "        vertical-align: middle;\n",
       "    }\n",
       "\n",
       "    .dataframe tbody tr th {\n",
       "        vertical-align: top;\n",
       "    }\n",
       "\n",
       "    .dataframe thead th {\n",
       "        text-align: right;\n",
       "    }\n",
       "</style>\n",
       "<table border=\"1\" class=\"dataframe\">\n",
       "  <thead>\n",
       "    <tr style=\"text-align: right;\">\n",
       "      <th></th>\n",
       "      <th>Date</th>\n",
       "      <th>Close</th>\n",
       "      <th>High</th>\n",
       "      <th>Low</th>\n",
       "      <th>Open</th>\n",
       "      <th>Volume</th>\n",
       "      <th>day</th>\n",
       "    </tr>\n",
       "  </thead>\n",
       "  <tbody>\n",
       "    <tr>\n",
       "      <th>0</th>\n",
       "      <td>2018-08-13 09:00:00</td>\n",
       "      <td>942.9</td>\n",
       "      <td>943.5</td>\n",
       "      <td>942.9</td>\n",
       "      <td>943.5</td>\n",
       "      <td>975</td>\n",
       "      <td>2018-08-13</td>\n",
       "    </tr>\n",
       "    <tr>\n",
       "      <th>1</th>\n",
       "      <td>2018-08-13 09:01:00</td>\n",
       "      <td>943.1</td>\n",
       "      <td>943.1</td>\n",
       "      <td>942.9</td>\n",
       "      <td>943.0</td>\n",
       "      <td>220</td>\n",
       "      <td>2018-08-13</td>\n",
       "    </tr>\n",
       "    <tr>\n",
       "      <th>2</th>\n",
       "      <td>2018-08-13 09:02:00</td>\n",
       "      <td>943.5</td>\n",
       "      <td>943.6</td>\n",
       "      <td>943.0</td>\n",
       "      <td>943.0</td>\n",
       "      <td>121</td>\n",
       "      <td>2018-08-13</td>\n",
       "    </tr>\n",
       "    <tr>\n",
       "      <th>3</th>\n",
       "      <td>2018-08-13 09:03:00</td>\n",
       "      <td>943.4</td>\n",
       "      <td>943.4</td>\n",
       "      <td>943.3</td>\n",
       "      <td>943.3</td>\n",
       "      <td>135</td>\n",
       "      <td>2018-08-13</td>\n",
       "    </tr>\n",
       "    <tr>\n",
       "      <th>4</th>\n",
       "      <td>2018-08-13 09:04:00</td>\n",
       "      <td>943.1</td>\n",
       "      <td>943.2</td>\n",
       "      <td>943.0</td>\n",
       "      <td>943.2</td>\n",
       "      <td>361</td>\n",
       "      <td>2018-08-13</td>\n",
       "    </tr>\n",
       "  </tbody>\n",
       "</table>\n",
       "</div>"
      ],
      "text/plain": [
       "                 Date  Close   High    Low   Open  Volume         day\n",
       "0 2018-08-13 09:00:00  942.9  943.5  942.9  943.5     975  2018-08-13\n",
       "1 2018-08-13 09:01:00  943.1  943.1  942.9  943.0     220  2018-08-13\n",
       "2 2018-08-13 09:02:00  943.5  943.6  943.0  943.0     121  2018-08-13\n",
       "3 2018-08-13 09:03:00  943.4  943.4  943.3  943.3     135  2018-08-13\n",
       "4 2018-08-13 09:04:00  943.1  943.2  943.0  943.2     361  2018-08-13"
      ]
     },
     "execution_count": 14,
     "metadata": {},
     "output_type": "execute_result"
    }
   ],
   "source": [
    "df.head(5)"
   ]
  }
 ],
 "metadata": {
  "kernelspec": {
   "display_name": "Python 3",
   "language": "python",
   "name": "python3"
  },
  "language_info": {
   "codemirror_mode": {
    "name": "ipython",
    "version": 3
   },
   "file_extension": ".py",
   "mimetype": "text/x-python",
   "name": "python",
   "nbconvert_exporter": "python",
   "pygments_lexer": "ipython3",
   "version": "3.10.5"
  },
  "orig_nbformat": 4,
  "vscode": {
   "interpreter": {
    "hash": "26de051ba29f2982a8de78e945f0abaf191376122a1563185a90213a26c5da77"
   }
  }
 },
 "nbformat": 4,
 "nbformat_minor": 2
}
