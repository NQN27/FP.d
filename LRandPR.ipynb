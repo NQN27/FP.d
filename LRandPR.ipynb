{
 "cells": [
  {
   "cell_type": "code",
   "execution_count": 269,
   "metadata": {},
   "outputs": [],
   "source": [
    "#Import Libraries\n",
    "import numpy as np\n",
    "import pandas as pd\n",
    "import matplotlib.pyplot as plt\n",
    "from sklearn.model_selection import train_test_split\n",
    "from sklearn.linear_model import LinearRegression\n",
    "from sklearn.preprocessing import PolynomialFeatures\n"
   ]
  },
  {
   "cell_type": "code",
   "execution_count": 258,
   "metadata": {},
   "outputs": [],
   "source": [
    "class DataPreprocessing():\n",
    "    def __init__(self):\n",
    "        self.dataframe = None\n",
    "        self.X = None\n",
    "        self.y1 = None\n",
    "        self.y2 = None\n",
    "    def read_from_csv(self):\n",
    "        df=pd.read_csv('datavn30fm.csv', index_col=False)\n",
    "        self.dataframe = df\n",
    "    def set_attributes_and_output(self):\n",
    "        self.X = self.dataframe.values[:-1,1:-2]\n",
    "        self.y2 = self.dataframe.values[1:, -1]\n",
    "        self.y1 = self.dataframe.values[1:, -5]\n",
    "    def final_train_test_data(self,attributes_list=[1,2,3,4,5], test_size=0.2):\n",
    "        return \\\n",
    "            train_test_split(\n",
    "                self.X[:, attributes_list],\n",
    "                self.y1,\n",
    "                shuffle=False,\n",
    "                test_size=test_size)\n",
    "\n",
    "        \n",
    "                "
   ]
  },
  {
   "cell_type": "code",
   "execution_count": 261,
   "metadata": {},
   "outputs": [
    {
     "name": "stdout",
     "output_type": "stream",
     "text": [
      "Shape of X_train:  (45969, 4)\n",
      "Shape of y_train:  (45969,)\n",
      "Shape of X_test:  (11493, 4)\n",
      "Shape of y_test:  (11493,)\n",
      "[[943.6 942.9 943.1 271.7999999999588]\n",
      " [943.5 942.9 943.3 -132.29999999987967]\n",
      " [943.3 942.6 943.1 -181.04999999997256]\n",
      " [943.1 942.3 942.6 119.6000000000272]\n",
      " [943.7 942.4 943.7 -1147.2500000001603]]\n"
     ]
    }
   ],
   "source": [
    "dp = DataPreprocessing()\n",
    "dp.read_from_csv()\n",
    "dp.set_attributes_and_output()\n",
    "\n",
    "X_train, X_test, y_train, y_test = \\\n",
    "    dp.final_train_test_data(attributes_list=[1,2,3,5], test_size=0.2)\n",
    "print('Shape of X_train: ', X_train.shape)\n",
    "print('Shape of y_train: ', y_train.shape)\n",
    "print('Shape of X_test: ', X_test.shape)\n",
    "print('Shape of y_test: ', y_test.shape)\n",
    "print(X_train[0:5])\n"
   ]
  },
  {
   "cell_type": "code",
   "execution_count": 263,
   "metadata": {},
   "outputs": [],
   "source": [
    "from sklearn.metrics import mean_squared_error,precision_score\n",
    "\n",
    "class BaseClassRegressionAnalysis():\n",
    "    def __init__(self):\n",
    "        # Initialize a regressor, which will handle the LinearRegression model \n",
    "        self.regressor = LinearRegression()\n",
    "    \n",
    "    def fit(self, X, y):\n",
    "        # The regressor learn from the training data with input X and output y\n",
    "        self.regressor.fit(X, y)\n",
    "        \n",
    "    def predict(self, X):\n",
    "        # The regressor predict the result with input X (after being trained)\n",
    "        # The output has the same size as output y\n",
    "        return self.regressor.predict(X)\n",
    "    \n",
    "    def mean_square_error(self, y_real, y_predict):\n",
    "        # Compare the 2 output vectors: real output and prediction, using mean square error\n",
    "        return mean_squared_error(y_real, y_predict)\n",
    "    def precision_scored(self, y_real, y_predict):\n",
    "        # Return the value of the precision scores\n",
    "        return precision_score(y_real, y_predict,zero_division=0)\n",
    "    \n",
    "    def visualize_prediction(self, y_real, y_predict):\n",
    "        # Visualize the 2 output vectors: real output and prediction with each instances \n",
    "        x = np.array([i for i in range(len(y_predict))]) # Numbering the instances from 0 for x-axis of the plot\n",
    "        plt.plot(x, y_real, label = 'Real')\n",
    "        plt.plot(x, y_predict, label = 'Predict')\n",
    "        plt.xlabel('Instances')\n",
    "        plt.ylabel('Prediction & Real Prices')\n",
    "        plt.legend()\n",
    "        plt.show()"
   ]
  },
  {
   "cell_type": "code",
   "execution_count": 264,
   "metadata": {},
   "outputs": [],
   "source": [
    "class LinearRegressionAnalysis(BaseClassRegressionAnalysis):\n",
    "    pass\n",
    "     "
   ]
  },
  {
   "cell_type": "code",
   "execution_count": 266,
   "metadata": {},
   "outputs": [],
   "source": [
    "class PolynomialRegressionAnalysis(BaseClassRegressionAnalysis):\n",
    "    def __init__(self, degree):\n",
    "        super().__init__()\n",
    "        self.degree = degree\n",
    "    \n",
    "    def __poly_transform(self, X):\n",
    "        poly = PolynomialFeatures(degree=self.degree)\n",
    "        Xt = poly.fit_transform(X)\n",
    "        return Xt\n",
    "    \n",
    "    def fit(self, X, y, degree=2):\n",
    "        Xt = self.__poly_transform(X)\n",
    "        super().fit(Xt, y)\n",
    "        \n",
    "    def predict(self, X):\n",
    "        Xt = self.__poly_transform(X)\n",
    "        return super().predict(Xt)"
   ]
  },
  {
   "cell_type": "code",
   "execution_count": 267,
   "metadata": {},
   "outputs": [
    {
     "name": "stdout",
     "output_type": "stream",
     "text": [
      "First 10 instances prediction :      [1 1 1 1 1 1 1 1 1 1]\n",
      "Real output of first 10 instances :  [1, 1, 1, 1, 1, 1, 1, 1, 1, 1]\n",
      "Precision of prediction :  1.0\n",
      "Score :  1.0\n"
     ]
    }
   ],
   "source": [
    "# Initialize a regressor (a model) to learn from data\n",
    "lr = LinearRegressionAnalysis()\n",
    "\n",
    "# The regressor will learn from the input and output of training data\n",
    "lr.fit(X_train, y_train)\n",
    "\n",
    "\n",
    "# After learning from training data, the model will make a prediction based on input testing data\n",
    "y_pred = [1 if i>0.5 else 0 for i in lr.predict(X_test)]\n",
    "y_test = [1 if x>0.5 else 0 for x in y_test]\n",
    "# Comparision and visualization\n",
    "print('First 10 instances prediction :     ', np.array([round(i, 1) for i in y_pred[:10]]))\n",
    "print('Real output of first 10 instances : ', y_test[:10])\n",
    "print('Precision of prediction : ', lr.precision_scored(y_test,y_pred))\n",
    "score =0\n",
    "for i in range(len(y_test)):\n",
    "    if y_test[i] == y_pred[i]:\n",
    "        score +=1\n",
    "print('Score : ', score/len(y_test)*2-1)\n",
    "#lr.visualize_prediction(y1_test, y1_pred)\n"
   ]
  },
  {
   "cell_type": "code",
   "execution_count": 236,
   "metadata": {},
   "outputs": [
    {
     "data": {
      "text/plain": [
       "1    10744\n",
       "0      749\n",
       "dtype: int64"
      ]
     },
     "execution_count": 236,
     "metadata": {},
     "output_type": "execute_result"
    }
   ],
   "source": [
    "pd.DataFrame(y_pred).value_counts()\n"
   ]
  },
  {
   "cell_type": "code",
   "execution_count": 237,
   "metadata": {},
   "outputs": [
    {
     "data": {
      "text/plain": [
       "0    6033\n",
       "1    5460\n",
       "dtype: int64"
      ]
     },
     "execution_count": 237,
     "metadata": {},
     "output_type": "execute_result"
    }
   ],
   "source": [
    "pd.DataFrame(y_test).value_counts()"
   ]
  },
  {
   "cell_type": "code",
   "execution_count": 245,
   "metadata": {},
   "outputs": [
    {
     "name": "stdout",
     "output_type": "stream",
     "text": [
      "0.04985643435134435 0.0 0.5 0.54\n",
      "32\n"
     ]
    }
   ],
   "source": [
    "maxscore =0\n",
    "good_p=0\n",
    "precision_score_p=0\n",
    "max_precision_score = 0\n",
    "T=len(y_test)\n",
    "for p in range(0,100,1):\n",
    "    y_pred = [1 if i>p/100 else 0 for i in lr.predict(X_test)]\n",
    "    y_test = [1 if x>0.5 else 0 for x in y_test]\n",
    "    score =0\n",
    "    for i in range(len(y_test)):\n",
    "        if y_test[i] == y_pred[i]:\n",
    "            score +=1\n",
    "    if maxscore < abs(score/T*2-1):\n",
    "        maxscore = abs(score/T*2-1)\n",
    "        good_p=p/100\n",
    "    if max_precision_score < lr.precision_scored(y_test,y_pred):\n",
    "        max_precision_score = lr.precision_scored(y_test,y_pred)\n",
    "        precision_score_p=p/100\n",
    "print(maxscore,good_p,max_precision_score,precision_score_p)\n",
    "y_pred = [1 if i>precision_score_p else 0 for i in lr.predict(X_test)]\n",
    "count=0\n",
    "for i in y_pred:\n",
    "    if i ==1:\n",
    "        count+=1\n",
    "print(count)\n",
    "y_pred = [1 if i>-0.18 else 0 for i in lr.predict(X_test)]\n"
   ]
  },
  {
   "cell_type": "code",
   "execution_count": 246,
   "metadata": {},
   "outputs": [
    {
     "data": {
      "text/plain": [
       "1    11493\n",
       "dtype: int64"
      ]
     },
     "execution_count": 246,
     "metadata": {},
     "output_type": "execute_result"
    }
   ],
   "source": [
    "pd.DataFrame(y_pred).value_counts()"
   ]
  },
  {
   "cell_type": "code",
   "execution_count": 247,
   "metadata": {},
   "outputs": [
    {
     "data": {
      "text/plain": [
       "0    6033\n",
       "1    5460\n",
       "dtype: int64"
      ]
     },
     "execution_count": 247,
     "metadata": {},
     "output_type": "execute_result"
    }
   ],
   "source": [
    "pd.DataFrame(y_test).value_counts()"
   ]
  },
  {
   "cell_type": "code",
   "execution_count": 242,
   "metadata": {},
   "outputs": [],
   "source": [
    "def backtest(data, model, predictors, start=1000, step=750):\n",
    "    predictions = []\n",
    "    # Loop over the dataset in increments\n",
    "    for i in range(start, data.shape[0], step):\n",
    "        # Split into train and test sets\n",
    "        train = data.iloc[0:i].copy()\n",
    "        test = data.iloc[i:(i+step)].copy()\n",
    "\n",
    "        # Fit the random forest model\n",
    "        model.fit(train[predictors], train[\"Target\"])\n",
    "\n",
    "        # Make predictions\n",
    "        preds = model.predict_proba(test[predictors])[:,1]\n",
    "        preds = pd.Series(preds, index=test.index)\n",
    "        preds[preds > 0.5] = 1\n",
    "        preds[preds<=0.5] = 0\n",
    "\n",
    "        # Combine predictions and test values\n",
    "        combined = pd.concat({\"Target\": test[\"Target\"],\"Predictions\": preds}, axis=1)\n",
    "\n",
    "        predictions.append(combined)\n",
    "\n",
    "    return pd.concat(predictions)"
   ]
  },
  {
   "cell_type": "code",
   "execution_count": 224,
   "metadata": {},
   "outputs": [
    {
     "ename": "AttributeError",
     "evalue": "'DataPreprocessing' object has no attribute 'shape'",
     "output_type": "error",
     "traceback": [
      "\u001b[1;31m---------------------------------------------------------------------------\u001b[0m",
      "\u001b[1;31mAttributeError\u001b[0m                            Traceback (most recent call last)",
      "Cell \u001b[1;32mIn [224], line 1\u001b[0m\n\u001b[1;32m----> 1\u001b[0m predictions \u001b[39m=\u001b[39m backtest(dp,LinearRegression,[],start \u001b[39m=\u001b[39;49m \u001b[39m1000\u001b[39;49m,step \u001b[39m=\u001b[39;49m \u001b[39m750\u001b[39;49m)\n",
      "Cell \u001b[1;32mIn [223], line 4\u001b[0m, in \u001b[0;36mbacktest\u001b[1;34m(data, model, predictors, start, step)\u001b[0m\n\u001b[0;32m      2\u001b[0m predictions \u001b[39m=\u001b[39m []\n\u001b[0;32m      3\u001b[0m \u001b[39m# Loop over the dataset in increments\u001b[39;00m\n\u001b[1;32m----> 4\u001b[0m \u001b[39mfor\u001b[39;00m i \u001b[39min\u001b[39;00m \u001b[39mrange\u001b[39m(start, data\u001b[39m.\u001b[39;49mshape[\u001b[39m0\u001b[39m], step):\n\u001b[0;32m      5\u001b[0m     \u001b[39m# Split into train and test sets\u001b[39;00m\n\u001b[0;32m      6\u001b[0m     train \u001b[39m=\u001b[39m data\u001b[39m.\u001b[39miloc[\u001b[39m0\u001b[39m:i]\u001b[39m.\u001b[39mcopy()\n\u001b[0;32m      7\u001b[0m     test \u001b[39m=\u001b[39m data\u001b[39m.\u001b[39miloc[i:(i\u001b[39m+\u001b[39mstep)]\u001b[39m.\u001b[39mcopy()\n",
      "\u001b[1;31mAttributeError\u001b[0m: 'DataPreprocessing' object has no attribute 'shape'"
     ]
    }
   ],
   "source": [
    "#predictions = backtest(dp,LinearRegression,[],start = 1000,step = 750)"
   ]
  },
  {
   "cell_type": "code",
   "execution_count": 209,
   "metadata": {},
   "outputs": [
    {
     "data": {
      "text/plain": [
       "'maxscore =0\\ngood_p=0\\nprecision_score_p=0\\nmax_precision_score = 0\\nT=len(y1_test)\\nfor p in range(0,101,1):\\n    y1_pred = [1 if i>p/100 else 0 for i in pr.predict(X_test)]\\n    y1_test = [int(x) for x in y_test]\\n    score =0\\n    for i in range(len(y1_test)):\\n        if y1_test[i] == y1_pred[i]:\\n            score +=1\\n    if maxscore < abs(score/T*2-1):\\n        maxscore = abs(score/T*2-1)\\n        good_p=p/100\\n    if max_precision_score < pr.precision_scored(y1_test,y1_pred):\\n        max_precision_score = pr.precision_scored(y1_test,y1_pred)\\n        precision_score_p=p/100\\nprint(maxscore,good_p,max_precision_score,precision_score_p)\\ny1_pred = [1 if i>precision_score_p else 0 for i in pr.predict(X_test)]\\ncount=0\\nfor i in y1_pred:\\n    if i ==1:\\n        count+=1\\nprint(count)\\n'"
      ]
     },
     "execution_count": 209,
     "metadata": {},
     "output_type": "execute_result"
    }
   ],
   "source": [
    "\n",
    "'''maxscore =0\n",
    "good_p=0\n",
    "precision_score_p=0\n",
    "max_precision_score = 0\n",
    "T=len(y1_test)\n",
    "for p in range(0,101,1):\n",
    "    y1_pred = [1 if i>p/100 else 0 for i in pr.predict(X_test)]\n",
    "    y1_test = [int(x) for x in y_test]\n",
    "    score =0\n",
    "    for i in range(len(y1_test)):\n",
    "        if y1_test[i] == y1_pred[i]:\n",
    "            score +=1\n",
    "    if maxscore < abs(score/T*2-1):\n",
    "        maxscore = abs(score/T*2-1)\n",
    "        good_p=p/100\n",
    "    if max_precision_score < pr.precision_scored(y1_test,y1_pred):\n",
    "        max_precision_score = pr.precision_scored(y1_test,y1_pred)\n",
    "        precision_score_p=p/100\n",
    "print(maxscore,good_p,max_precision_score,precision_score_p)\n",
    "y1_pred = [1 if i>precision_score_p else 0 for i in pr.predict(X_test)]\n",
    "count=0\n",
    "for i in y1_pred:\n",
    "    if i ==1:\n",
    "        count+=1\n",
    "print(count)\n",
    "'''"
   ]
  },
  {
   "cell_type": "code",
   "execution_count": 210,
   "metadata": {},
   "outputs": [
    {
     "data": {
      "text/plain": [
       "\"\\npr = PolynomialRegressionAnalysis(2)\\n\\n# The regressor will learn from the input and output of training data\\nX_train, X_test, y_train, y_test =     dp.final_train_test_data(attributes_list=[2,4,5], test_size=0.2)\\npr.fit(X_train, y_train)\\n\\n# After learning from training data, the model will make a prediction based on input testing data\\ny_pred = [1 if i>0 else 0 for i in pr.predict(X_test)]\\ny_test1 = [int(x) for x in y_test]\\n\\n# Comparision and visualization\\nprint('First 10 instances prediction :', np.array([i for i in y_pred[:10]]))\\nprint('Real output of first 10 instances :', y_test[:10])\\nprint('Precision of prediction : ', pr.precision_scored(y_test1,y_pred))\\nscore =0\\nfor i in range(len(y1_test)):\\n    if y1_test[i] == y1_pred[i]:\\n        score +=1\\nprint('Score : ', score/len(y1_test)*2-1)\\n\""
      ]
     },
     "execution_count": 210,
     "metadata": {},
     "output_type": "execute_result"
    }
   ],
   "source": [
    "# Initialize a regressor (a model) to learn from data\n",
    "'''\n",
    "pr = PolynomialRegressionAnalysis(2)\n",
    "\n",
    "# The regressor will learn from the input and output of training data\n",
    "X_train, X_test, y_train, y_test = \\\n",
    "    dp.final_train_test_data(attributes_list=[2,4,5], test_size=0.2)\n",
    "pr.fit(X_train, y_train)\n",
    "\n",
    "# After learning from training data, the model will make a prediction based on input testing data\n",
    "y_pred = [1 if i>0 else 0 for i in pr.predict(X_test)]\n",
    "y_test1 = [int(x) for x in y_test]\n",
    "\n",
    "# Comparision and visualization\n",
    "print('First 10 instances prediction :', np.array([i for i in y_pred[:10]]))\n",
    "print('Real output of first 10 instances :', y_test[:10])\n",
    "print('Precision of prediction : ', pr.precision_scored(y_test1,y_pred))\n",
    "score =0\n",
    "for i in range(len(y1_test)):\n",
    "    if y1_test[i] == y1_pred[i]:\n",
    "        score +=1\n",
    "print('Score : ', score/len(y1_test)*2-1)\n",
    "'''"
   ]
  }
 ],
 "metadata": {
  "kernelspec": {
   "display_name": "Python 3",
   "language": "python",
   "name": "python3"
  },
  "language_info": {
   "codemirror_mode": {
    "name": "ipython",
    "version": 3
   },
   "file_extension": ".py",
   "mimetype": "text/x-python",
   "name": "python",
   "nbconvert_exporter": "python",
   "pygments_lexer": "ipython3",
   "version": "3.10.5"
  },
  "orig_nbformat": 4,
  "vscode": {
   "interpreter": {
    "hash": "26de051ba29f2982a8de78e945f0abaf191376122a1563185a90213a26c5da77"
   }
  }
 },
 "nbformat": 4,
 "nbformat_minor": 2
}
