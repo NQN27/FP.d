{
 "cells": [
  {
   "cell_type": "code",
   "execution_count": 9,
   "metadata": {},
   "outputs": [],
   "source": [
    "import os\n",
    "import numpy as np\n",
    "import pandas as pd\n",
    "import matplotlib.pyplot as plt\n",
    "from sklearn.preprocessing import MinMaxScaler\n",
    "\n",
    "from keras.models import Sequential\n",
    "from keras.layers import LSTM\n",
    "from keras.layers import Dense\n",
    "\n",
    "import tensorflow as tf\n",
    "\n",
    "from matplotlib import RcParams\n"
   ]
  },
  {
   "cell_type": "code",
   "execution_count": 13,
   "metadata": {},
   "outputs": [],
   "source": [
    "data_frame = pd.read_csv('Train_data_FPT.csv')\n",
    "df = data_frame.filter(['Open','High','Low','Close','Volume'])\n",
    "\n",
    "Scaler = MinMaxScaler(feature_range=(0,1))\n",
    "scaler_data = Scaler.fit_transform(df)\n",
    "data_frame = pd.DataFrame(data=scaler_data, index = data_frame['Date/Time'], columns= ['Open','High','Low','Close','Volume'])\n"
   ]
  },
  {
   "cell_type": "code",
   "execution_count": 14,
   "metadata": {},
   "outputs": [],
   "source": [
    "# Volume show any correlation between other features less than other data, so it will be ignored \n",
    "# with Open interest\n",
    "\n",
    "# Load the traning data set\n",
    "Stock_close_data = data_frame.filter(['Close'])\n",
    "\n",
    "Stock_close_dataset = Stock_close_data.values \n",
    "\n",
    "Stock_close_datatrain = Stock_close_dataset\n"
   ]
  },
  {
   "cell_type": "code",
   "execution_count": 15,
   "metadata": {},
   "outputs": [],
   "source": [
    "\n",
    "Xtrain = np.array([])\n",
    "ytrain = np.array([])"
   ]
  },
  {
   "cell_type": "code",
   "execution_count": 16,
   "metadata": {},
   "outputs": [
    {
     "ename": "IndexError",
     "evalue": "tuple index out of range",
     "output_type": "error",
     "traceback": [
      "\u001b[1;31m---------------------------------------------------------------------------\u001b[0m",
      "\u001b[1;31mIndexError\u001b[0m                                Traceback (most recent call last)",
      "Cell \u001b[1;32mIn [16], line 1\u001b[0m\n\u001b[1;32m----> 1\u001b[0m Xtrain \u001b[39m=\u001b[39m np\u001b[39m.\u001b[39mreshape(Xtrain, Xtrain\u001b[39m.\u001b[39mshape[\u001b[39m0\u001b[39m],Xtrain\u001b[39m.\u001b[39;49mshape[\u001b[39m1\u001b[39;49m],\u001b[39m1\u001b[39m)\n",
      "\u001b[1;31mIndexError\u001b[0m: tuple index out of range"
     ]
    }
   ],
   "source": [
    "\n",
    "Xtrain = np.reshape(Xtrain, Xtrain.shape[0],Xtrain.shape[1],1)"
   ]
  }
 ],
 "metadata": {
  "kernelspec": {
   "display_name": "Python 3",
   "language": "python",
   "name": "python3"
  },
  "language_info": {
   "codemirror_mode": {
    "name": "ipython",
    "version": 3
   },
   "file_extension": ".py",
   "mimetype": "text/x-python",
   "name": "python",
   "nbconvert_exporter": "python",
   "pygments_lexer": "ipython3",
   "version": "3.10.5"
  },
  "orig_nbformat": 4,
  "vscode": {
   "interpreter": {
    "hash": "26de051ba29f2982a8de78e945f0abaf191376122a1563185a90213a26c5da77"
   }
  }
 },
 "nbformat": 4,
 "nbformat_minor": 2
}
