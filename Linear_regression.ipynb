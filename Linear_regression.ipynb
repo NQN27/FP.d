{
 "cells": [
  {
   "cell_type": "code",
   "execution_count": 111,
   "metadata": {},
   "outputs": [],
   "source": [
    "#Import Libraries\n",
    "import numpy as np\n",
    "import pandas as pd\n",
    "import matplotlib.pyplot as plt\n",
    "from sklearn.model_selection import train_test_split\n",
    "from sklearn.linear_model import LinearRegression\n",
    "from sklearn.preprocessing import PolynomialFeatures\n",
    "import ta"
   ]
  },
  {
   "cell_type": "code",
   "execution_count": 112,
   "metadata": {},
   "outputs": [],
   "source": [
    "class DataPreProcessing():\n",
    "    def __init__(self):\n",
    "        self.dataframe = None\n",
    "        self.X = None\n",
    "        self.y1 = None\n",
    "        self.y2 = None\n",
    "    def read_from_csv(self):\n",
    "        df=pd.read_csv('datavn30fm.csv', index_col='Date')\n",
    "        self.dataframe = df\n",
    "        return df\n",
    "    def preprocess(self):\n",
    "        self.dataframe['RSI_value']=ta.momentum.RSIIndicator(self.dataframe['Close'], window  = 14, fillna = False).rsi()\n",
    "        self.dataframe['MACD_value']=ta.trend.macd(self.dataframe['Close'], window_slow=25,window_fast=12,fillna= False)\n",
    "        self.dataframe['CCI_value'] = ta.trend.cci(self.dataframe[\"High\"],self.dataframe[\"Low\"],self.dataframe['Close'], window=25,constant=0.015,fillna=False)\n",
    "    def set_attributes_and_output(self):\n",
    "        self.X = self.dataframe[['Close','RSI_value','MACD_value','CCI_value']].iloc[25:]\n",
    "        self.y = self.dataframe['Close'].iloc[26:]\n",
    "    def train_test_divide(self, split_at='2021-12-31'):\n",
    "        return \\\n",
    "            self.X.loc[:split_at].iloc[:-1],self.y.loc[:split_at],self.X.loc[split_at:][:-1],self.y.loc[split_at:][1:]"
   ]
  },
  {
   "cell_type": "code",
   "execution_count": 113,
   "metadata": {},
   "outputs": [
    {
     "name": "stdout",
     "output_type": "stream",
     "text": [
      "Shape of X_train:  (16014, 4)\n",
      "Shape of y_train:  (16014,)\n",
      "Shape of X_test:  (5375, 4)\n",
      "Shape of y_test:  (5375,)\n"
     ]
    },
    {
     "data": {
      "text/plain": [
       "952.3"
      ]
     },
     "execution_count": 113,
     "metadata": {},
     "output_type": "execute_result"
    }
   ],
   "source": [
    "dp = DataPreProcessing()\n",
    "dp.read_from_csv()\n",
    "dp.preprocess()\n",
    "dp.set_attributes_and_output()\n",
    "\n",
    "X_train,y_train, X_test,  y_test = \\\n",
    "    dp.train_test_divide(split_at='2021-12-31')\n",
    "print('Shape of X_train: ', X_train.shape)\n",
    "print('Shape of y_train: ', y_train.shape)\n",
    "print('Shape of X_test: ', X_test.shape)\n",
    "print('Shape of y_test: ', y_test.shape)\n",
    "X_train.iloc[0]\n",
    "y_train.iloc[0]"
   ]
  },
  {
   "cell_type": "code",
   "execution_count": 114,
   "metadata": {},
   "outputs": [],
   "source": [
    "from sklearn.metrics import mean_squared_error,precision_score\n",
    "\n",
    "class BaseClassRegressionAnalysis():\n",
    "    def __init__(self):\n",
    "        # Initialize a regressor, which will handle the LinearRegression model \n",
    "        self.regressor = LinearRegression()\n",
    "    \n",
    "    def fit(self, X, y):\n",
    "        # The regressor learn from the training data with input X and output y\n",
    "        self.regressor.fit(X, y)\n",
    "        \n",
    "    def predict(self, X):\n",
    "        # The regressor predict the result with input X (after being trained)\n",
    "        # The output has the same size as output y\n",
    "        return self.regressor.predict(X)\n",
    "    \n",
    "    def mean_square_error(self, y_real, y_predict):\n",
    "        # Compare the 2 output vectors: real output and prediction, using mean square error\n",
    "        return mean_squared_error(y_real, y_predict)\n",
    "    def precision_scored(self, y_real, y_predict):\n",
    "        # Return the value of the precision scores\n",
    "        return precision_score(y_real, y_predict,zero_division=0)"
   ]
  },
  {
   "cell_type": "code",
   "execution_count": 115,
   "metadata": {},
   "outputs": [],
   "source": [
    "class LinearRegressionAnalysis(BaseClassRegressionAnalysis):\n",
    "    pass\n",
    "     "
   ]
  },
  {
   "cell_type": "code",
   "execution_count": 118,
   "metadata": {},
   "outputs": [
    {
     "name": "stdout",
     "output_type": "stream",
     "text": [
      "16.757873734498332\n",
      "First 10 instances prediction :      [1530.83958487 1531.44565203 1537.91218283 1537.89519029 1539.12105662\n",
      " 1539.12139964 1538.61418127 1537.57145989 1535.28397176 1538.66302436]\n",
      "Real output of first 10 instances :  [1531.3, 1537.7, 1537.7, 1538.9, 1538.9, 1538.4, 1537.4, 1535.2, 1538.5, 1538.4]\n",
      "Score IC :  0.0\n"
     ]
    }
   ],
   "source": [
    "lr = LinearRegressionAnalysis()\n",
    "\n",
    "lr.fit(X_train, y_train)\n",
    "y_pred = [i for i in lr.predict(X_test)]\n",
    "y_test = [x for x in y_test]\n",
    "print(mean_squared_error(y_pred, y_test))\n",
    "print('First 10 instances prediction :     ', np.array([i for i in y_pred[:10]]))\n",
    "print('Real output of first 10 instances : ', y_test[:10])\n",
    "score =0\n",
    "time_pred =0\n",
    "hit_points = 0\n",
    "for i in range(len(y_test)):\n",
    "    if y_pred[i] != 0:\n",
    "        time_pred +=1\n",
    "        if y_test[i] == y_pred[i]:\n",
    "            score +=1\n",
    "print('Score IC : ', score/time_pred)\n"
   ]
  },
  {
   "cell_type": "code",
   "execution_count": 110,
   "metadata": {},
   "outputs": [
    {
     "name": "stdout",
     "output_type": "stream",
     "text": [
      "5083\n",
      "2352\n"
     ]
    }
   ],
   "source": [
    "print(time_pred)\n",
    "print(score)"
   ]
  }
 ],
 "metadata": {
  "kernelspec": {
   "display_name": "Python 3",
   "language": "python",
   "name": "python3"
  },
  "language_info": {
   "codemirror_mode": {
    "name": "ipython",
    "version": 3
   },
   "file_extension": ".py",
   "mimetype": "text/x-python",
   "name": "python",
   "nbconvert_exporter": "python",
   "pygments_lexer": "ipython3",
   "version": "3.10.5"
  },
  "orig_nbformat": 4,
  "vscode": {
   "interpreter": {
    "hash": "26de051ba29f2982a8de78e945f0abaf191376122a1563185a90213a26c5da77"
   }
  }
 },
 "nbformat": 4,
 "nbformat_minor": 2
}
