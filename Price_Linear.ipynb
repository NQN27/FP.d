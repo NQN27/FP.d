{
 "cells": [
  {
   "cell_type": "code",
   "execution_count": 1,
   "metadata": {},
   "outputs": [],
   "source": [
    "#Import Libraries\n",
    "import numpy as np\n",
    "import pandas as pd\n",
    "import matplotlib.pyplot as plt\n",
    "from sklearn.model_selection import train_test_split\n",
    "from sklearn.linear_model import LinearRegression\n",
    "from sklearn.preprocessing import PolynomialFeatures\n"
   ]
  },
  {
   "cell_type": "code",
   "execution_count": 3,
   "metadata": {},
   "outputs": [],
   "source": [
    "class DataPreprocessing():\n",
    "    def __init__(self):\n",
    "        self.dataframe = None\n",
    "        self.X = None\n",
    "        self.y1 = None\n",
    "        self.y2 = None\n",
    "    def read_from_csv(self):\n",
    "        df=pd.read_csv('datavn30fm.csv', index_col=False)\n",
    "        self.dataframe = df\n",
    "    def set_attributes_and_output(self):\n",
    "        self.X = self.dataframe.values[:-1,1:-2]\n",
    "        self.y2 = self.dataframe.values[1:, -1]\n",
    "        self.y1 = self.dataframe.values[1:, -5]\n",
    "    def final_train_test_data(self,attributes_list=[1,2,3,4,5], test_size=0.2):\n",
    "        return \\\n",
    "            train_test_split(\n",
    "                self.X[:, attributes_list],\n",
    "                self.y1,\n",
    "                shuffle=False,\n",
    "                test_size=test_size)\n"
   ]
  },
  {
   "cell_type": "code",
   "execution_count": 18,
   "metadata": {},
   "outputs": [
    {
     "name": "stdout",
     "output_type": "stream",
     "text": [
      "Shape of X_train:  (45969, 4)\n",
      "Shape of y_train:  (45969,)\n",
      "Shape of X_test:  (11493, 4)\n",
      "Shape of y_test:  (11493,)\n",
      "[1491.8 1490.8 1491.3 1491.1 1491.9]\n"
     ]
    }
   ],
   "source": [
    "dp = DataPreprocessing()\n",
    "dp.read_from_csv()\n",
    "dp.set_attributes_and_output()\n",
    "\n",
    "X_train, X_test, y_train, y_test = \\\n",
    "    dp.final_train_test_data(attributes_list=[1,2,3,5], test_size=0.2)\n",
    "print('Shape of X_train: ', X_train.shape)\n",
    "print('Shape of y_train: ', y_train.shape)\n",
    "print('Shape of X_test: ', X_test.shape)\n",
    "print('Shape of y_test: ', y_test.shape)\n",
    "print(y_test[0:5])\n"
   ]
  },
  {
   "cell_type": "code",
   "execution_count": 5,
   "metadata": {},
   "outputs": [],
   "source": [
    "from sklearn.metrics import mean_squared_error,precision_score\n",
    "\n",
    "class BaseClassRegressionAnalysis():\n",
    "    def __init__(self):\n",
    "        # Initialize a regressor, which will handle the LinearRegression model \n",
    "        self.regressor = LinearRegression()\n",
    "    \n",
    "    def fit(self, X, y):\n",
    "        # The regressor learn from the training data with input X and output y\n",
    "        self.regressor.fit(X, y)\n",
    "        \n",
    "    def predict(self, X):\n",
    "        # The regressor predict the result with input X (after being trained)\n",
    "        # The output has the same size as output y\n",
    "        return self.regressor.predict(X)\n",
    "    \n",
    "    def mean_square_error(self, y_real, y_predict):\n",
    "        # Compare the 2 output vectors: real output and prediction, using mean square error\n",
    "        return mean_squared_error(y_real, y_predict)\n",
    "    def precision_scored(self, y_real, y_predict):\n",
    "        # Return the value of the precision scores\n",
    "        return precision_score(y_real, y_predict,zero_division=0)\n",
    "    \n",
    "    def visualize_prediction(self, y_real, y_predict):\n",
    "        # Visualize the 2 output vectors: real output and prediction with each instances \n",
    "        x = np.array([i for i in range(len(y_predict))]) # Numbering the instances from 0 for x-axis of the plot\n",
    "        plt.plot(x, y_real, label = 'Real')\n",
    "        plt.plot(x, y_predict, label = 'Predict')\n",
    "        plt.xlabel('Instances')\n",
    "        plt.ylabel('Prediction & Real Prices')\n",
    "        plt.legend()\n",
    "        plt.show()"
   ]
  },
  {
   "cell_type": "code",
   "execution_count": 6,
   "metadata": {},
   "outputs": [],
   "source": [
    "class LinearRegressionAnalysis(BaseClassRegressionAnalysis):\n",
    "    pass\n",
    "     "
   ]
  },
  {
   "cell_type": "code",
   "execution_count": 7,
   "metadata": {},
   "outputs": [],
   "source": [
    "class PolynomialRegressionAnalysis(BaseClassRegressionAnalysis):\n",
    "    def __init__(self, degree):\n",
    "        super().__init__()\n",
    "        self.degree = degree\n",
    "    \n",
    "    def __poly_transform(self, X):\n",
    "        poly = PolynomialFeatures(degree=self.degree)\n",
    "        Xt = poly.fit_transform(X)\n",
    "        return Xt\n",
    "    \n",
    "    def fit(self, X, y, degree=2):\n",
    "        Xt = self.__poly_transform(X)\n",
    "        super().fit(Xt, y)\n",
    "        \n",
    "    def predict(self, X):\n",
    "        Xt = self.__poly_transform(X)\n",
    "        return super().predict(Xt)"
   ]
  },
  {
   "cell_type": "code",
   "execution_count": 26,
   "metadata": {},
   "outputs": [
    {
     "name": "stdout",
     "output_type": "stream",
     "text": [
      "[0, 1, 0, 1, 0, 1, 1, 0, 0, 1]\n",
      "[1, 0, 1, 0, 1, 1, 0, 0, 1, 0]\n",
      "-0.01470460280170538\n",
      "First 10 instances prediction :      [1491.65463821 1491.84859792 1490.86261511 1491.3620427  1491.15461599\n",
      " 1491.93587528 1490.95458472 1489.20540279 1491.31918891 1492.41804301]\n",
      "Real output of first 10 instances :  [1491.8 1490.8 1491.3 1491.1 1491.9 1490.9 1489.2 1491.3 1492.4 1491.7]\n"
     ]
    }
   ],
   "source": [
    "# Initialize a regressor (a model) to learn from data\n",
    "lr = LinearRegressionAnalysis()\n",
    "\n",
    "# The regressor will learn from the input and output of training data\n",
    "lr.fit(X_train, y_train)\n",
    "\n",
    "\n",
    "# After learning from training data, the model will make a prediction based on input testing data\n",
    "y_pred = [i for i in lr.predict(X_test)]\n",
    "trend_pred = [int(y_pred[i]>y_pred[i+1]) for i in range(len(y_pred)-1)]\n",
    "trend_test = [int(y_test[i]>y_test[i+1]) for i in range(len(y_test)-1)]\n",
    "print(trend_pred[:10])\n",
    "print(trend_test[:10])\n",
    "score =0\n",
    "for i in range(len(y_test)-1):\n",
    "        if trend_test[i] == trend_pred[i]:\n",
    "            score +=1\n",
    "print(score/len(y_test)*2-1)\n",
    "\n",
    "# Comparision and visualization\n",
    "print('First 10 instances prediction :     ', np.array([i for i in y_pred[:10]]))\n",
    "print('Real output of first 10 instances : ', y_test[:10])\n",
    "#print('Precision of prediction : ', lr.precision_scored(y_test,y_pred))\n",
    "#lr.visualize_prediction(y1_test, y1_pred)\n"
   ]
  },
  {
   "cell_type": "code",
   "execution_count": null,
   "metadata": {},
   "outputs": [],
   "source": []
  }
 ],
 "metadata": {
  "kernelspec": {
   "display_name": "Python 3",
   "language": "python",
   "name": "python3"
  },
  "language_info": {
   "codemirror_mode": {
    "name": "ipython",
    "version": 3
   },
   "file_extension": ".py",
   "mimetype": "text/x-python",
   "name": "python",
   "nbconvert_exporter": "python",
   "pygments_lexer": "ipython3",
   "version": "3.10.5"
  },
  "orig_nbformat": 4,
  "vscode": {
   "interpreter": {
    "hash": "26de051ba29f2982a8de78e945f0abaf191376122a1563185a90213a26c5da77"
   }
  }
 },
 "nbformat": 4,
 "nbformat_minor": 2
}
